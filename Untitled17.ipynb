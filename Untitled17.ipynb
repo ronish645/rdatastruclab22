{
  "nbformat": 4,
  "nbformat_minor": 0,
  "metadata": {
    "colab": {
      "provenance": [],
      "authorship_tag": "ABX9TyOU9DaS80c30u0E7QRv2adT",
      "include_colab_link": true
    },
    "kernelspec": {
      "name": "python3",
      "display_name": "Python 3"
    },
    "language_info": {
      "name": "python"
    }
  },
  "cells": [
    {
      "cell_type": "markdown",
      "metadata": {
        "id": "view-in-github",
        "colab_type": "text"
      },
      "source": [
        "<a href=\"https://colab.research.google.com/github/ronish645/rdatastruclab22/blob/main/Untitled17.ipynb\" target=\"_parent\"><img src=\"https://colab.research.google.com/assets/colab-badge.svg\" alt=\"Open In Colab\"/></a>"
      ]
    },
    {
      "cell_type": "code",
      "execution_count": null,
      "metadata": {
        "id": "2WsUzIJT9s_F"
      },
      "outputs": [],
      "source": [
        "class Node:\n",
        "    def __init__(self, value):\n",
        "        self.value = value\n",
        "        self.next = None\n",
        "\n",
        "class CircularLinkedList:\n",
        "    def __init__(self):\n",
        "        self.head = None\n",
        "    \n",
        "    def insert(self, value):\n",
        "        new_node = Node(value)\n",
        "        if self.head is None:\n",
        "            self.head = new_node\n",
        "            new_node.next = self.head\n",
        "        else:\n",
        "            current = self.head\n",
        "            while current.next != self.head:\n",
        "                current = current.next\n",
        "            current.next = new_node\n",
        "            new_node.next = self.head\n",
        "    \n",
        "    def is_safe(self, n):\n",
        "        current = self.head\n",
        "        skip = 1\n",
        "        while True:\n",
        "            for i in range(skip):\n",
        "                current = current.next\n",
        "            skip += 1\n",
        "            if current.value == 1:\n",
        "                return False\n",
        "            if skip > n:\n",
        "                break\n",
        "        return True\n",
        "\n",
        "clist = CircularLinkedList()\n",
        "\n",
        "for i in range(1, 11):\n",
        "    clist.insert(i)\n",
        "\n",
        "n = int(input(\"Enter the number of times the wolf checked: \"))\n",
        "\n",
        "safe_nests = []\n",
        "for i in range(1, 11):\n",
        "    if clist.is_safe(n):\n",
        "        safe_nests.append(i)\n",
        "    clist.head = clist.head.next\n",
        "\n",
        "if safe_nests:\n",
        "    print(\"Safe nests to sleep are:\", safe_nests)\n",
        "else:\n",
        "    print(\"No safe nests found after the wolf checked\", n, \"times.\")\n"
      ]
    },
    {
      "cell_type": "code",
      "source": [],
      "metadata": {
        "id": "ZWqsLD_T9ubS"
      },
      "execution_count": null,
      "outputs": []
    }
  ]
}