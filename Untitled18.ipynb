{
  "nbformat": 4,
  "nbformat_minor": 0,
  "metadata": {
    "colab": {
      "provenance": [],
      "authorship_tag": "ABX9TyPeLYlS6GoSNxyCSAV+y0/J",
      "include_colab_link": true
    },
    "kernelspec": {
      "name": "python3",
      "display_name": "Python 3"
    },
    "language_info": {
      "name": "python"
    }
  },
  "cells": [
    {
      "cell_type": "markdown",
      "metadata": {
        "id": "view-in-github",
        "colab_type": "text"
      },
      "source": [
        "<a href=\"https://colab.research.google.com/github/ronish645/rdatastruclab22/blob/main/Untitled18.ipynb\" target=\"_parent\"><img src=\"https://colab.research.google.com/assets/colab-badge.svg\" alt=\"Open In Colab\"/></a>"
      ]
    },
    {
      "cell_type": "code",
      "execution_count": 4,
      "metadata": {
        "id": "4hDz86MCqRPt",
        "colab": {
          "base_uri": "https://localhost:8080/"
        },
        "outputId": "55fff45e-1eac-4edd-cc79-56717079b2a7"
      },
      "outputs": [
        {
          "output_type": "stream",
          "name": "stdout",
          "text": [
            "1: 1\n",
            "2: 10\n",
            "3: 11\n",
            "4: 100\n",
            "5: 101\n",
            "6: 110\n",
            "7: 111\n"
          ]
        }
      ],
      "source": [
        "#Q.No.1\n",
        "from collections import deque\n",
        "\n",
        "def genBin(n):\n",
        "    if n < 1:\n",
        "        return []\n",
        "    \n",
        "    queue = deque()\n",
        "    queue.append(\"1\")\n",
        "\n",
        "    for i in range(1, n+1):\n",
        "        front = queue.popleft()\n",
        "        print(f\"{i}: {front}\")\n",
        "\n",
        "        # Append 0 and 1 to the current binary number and push them to the queue\n",
        "        queue.append(front + \"0\")\n",
        "        queue.append(front + \"1\")\n",
        "\n",
        "# Example usage:\n",
        "genBin(7)\n"
      ]
    },
    {
      "cell_type": "code",
      "source": [
        "#Q.no.2\n",
        "from queue import Queue\n",
        "\n",
        "class Stack:\n",
        "    def __init__(self):\n",
        "        self.q = Queue()\n",
        "\n",
        "    def push(self, val):\n",
        "        # get the current size of the queue\n",
        "        size = self.q.qsize()\n",
        "\n",
        "        # enqueue the new value\n",
        "        self.q.put(val)\n",
        "\n",
        "        # dequeue and enqueue all previous values\n",
        "        for _ in range(size):\n",
        "            self.q.put(self.q.get())\n",
        "\n",
        "    def pop(self):\n",
        "        # if the queue is empty, raise an error\n",
        "        if self.q.empty():\n",
        "            raise IndexError(\"pop from empty stack\")\n",
        "\n",
        "        # return the last value that was enqueued\n",
        "        return self.q.get()\n",
        "stack = Stack()\n",
        "stack.push(1)\n",
        "stack.push(2)\n",
        "stack.push(3)\n",
        "print(stack.pop())  # output: 3\n",
        "print(stack.pop())  # output: 2\n",
        "print(stack.pop())  # output: 1\n"
      ],
      "metadata": {
        "id": "KgI9rTsHfOQq",
        "colab": {
          "base_uri": "https://localhost:8080/"
        },
        "outputId": "64b619b4-50e2-49fe-a490-258773db2e77"
      },
      "execution_count": 2,
      "outputs": [
        {
          "output_type": "stream",
          "name": "stdout",
          "text": [
            "3\n",
            "2\n",
            "1\n"
          ]
        }
      ]
    },
    {
      "cell_type": "code",
      "source": [
        "import heapq\n",
        "\n",
        "class CharPriorityQueue:\n",
        "    def __init__(self):\n",
        "        self.queue = []\n",
        "\n",
        "    def push(self, char):\n",
        "        priority = ord(char)\n",
        "        heapq.heappush(self.queue, (priority, char))\n",
        "\n",
        "    def pop(self):\n",
        "        if not self.queue:\n",
        "            raise Exception(\"Priority Queue is empty\")\n",
        "        \n",
        "        priority, char = heapq.heappop(self.queue)\n",
        "        return char\n",
        "\n",
        "    def is_empty(self):\n",
        "        return len(self.queue) == 0\n",
        "\n",
        "    def __str__(self):\n",
        "        return str([item[1] for item in self.queue])\n",
        "\n",
        "# Example usage:\n",
        "priority_queue = CharPriorityQueue()\n",
        "priority_queue.push('a')\n",
        "priority_queue.push('b')\n",
        "priority_queue.push('A')\n",
        "print(priority_queue)  # Output: ['A', 'b', 'a']\n",
        "print(priority_queue.pop())  # Output: 'A'\n",
        "print(priority_queue)  # Output: ['a', 'b']\n"
      ],
      "metadata": {
        "colab": {
          "base_uri": "https://localhost:8080/"
        },
        "id": "-DVJxfdXgOrB",
        "outputId": "894cbcd3-f53d-4222-f802-a48ef7e5a109"
      },
      "execution_count": 5,
      "outputs": [
        {
          "output_type": "stream",
          "name": "stdout",
          "text": [
            "['A', 'b', 'a']\n",
            "A\n",
            "['a', 'b']\n"
          ]
        }
      ]
    },
    {
      "cell_type": "code",
      "source": [
        "#Q.no.4\n",
        "def getNumElem(size, front, rear):\n",
        "    if front == -1 and rear == -1:\n",
        "        # the queue is empty\n",
        "        return 0\n",
        "    elif rear >= front:\n",
        "        # the queue is not wrapped around\n",
        "        return rear - front + 1\n",
        "    else:\n",
        "        # the queue is wrapped around\n",
        "        return size - front + rear + 1\n",
        "# create a circular queue with max size 5\n",
        "queue = [None] * 5\n",
        "front, rear = -1, -1\n",
        "\n",
        "# enqueue three elements\n",
        "rear = (rear + 1) % len(queue)\n",
        "queue[rear] = 1\n",
        "rear = (rear + 1) % len(queue)\n",
        "queue[rear] = 2\n",
        "rear = (rear + 1) % len(queue)\n",
        "queue[rear] = 3\n",
        "\n",
        "# dequeue one element\n",
        "front = (front + 1) % len(queue)\n",
        "\n",
        "# get the number of elements in the queue\n",
        "num_elems = getNumElem(len(queue), front, rear)\n",
        "print(num_elems)  # output: 2\n"
      ],
      "metadata": {
        "id": "oc1hJJUPfx71",
        "colab": {
          "base_uri": "https://localhost:8080/"
        },
        "outputId": "a113f374-f033-4dd0-b03e-1a622b07e81a"
      },
      "execution_count": 3,
      "outputs": [
        {
          "output_type": "stream",
          "name": "stdout",
          "text": [
            "3\n"
          ]
        }
      ]
    }
  ]
}