{
  "nbformat": 4,
  "nbformat_minor": 0,
  "metadata": {
    "colab": {
      "provenance": [],
      "authorship_tag": "ABX9TyNOOLJ9jFJisgUzFp+FlY3O",
      "include_colab_link": true
    },
    "kernelspec": {
      "name": "python3",
      "display_name": "Python 3"
    },
    "language_info": {
      "name": "python"
    }
  },
  "cells": [
    {
      "cell_type": "markdown",
      "metadata": {
        "id": "view-in-github",
        "colab_type": "text"
      },
      "source": [
        "<a href=\"https://colab.research.google.com/github/ronish645/rdatastruclab22/blob/main/Untitled18.ipynb\" target=\"_parent\"><img src=\"https://colab.research.google.com/assets/colab-badge.svg\" alt=\"Open In Colab\"/></a>"
      ]
    },
    {
      "cell_type": "code",
      "execution_count": null,
      "metadata": {
        "id": "4hDz86MCqRPt"
      },
      "outputs": [],
      "source": [
        "#Q.no.1\n",
        "from queue import Queue\n",
        "\n",
        "def genBin(n):\n",
        "    # create an empty queue and enqueue the first binary number\n",
        "    q = Queue()\n",
        "    q.put(\"1\")\n",
        "\n",
        "    # iterate over the remaining numbers in the sequence\n",
        "    for i in range(n):\n",
        "        # dequeue the first binary number from the queue\n",
        "        binary_num = q.get()\n",
        "\n",
        "        # print the binary number\n",
        "        print(binary_num)\n",
        "\n",
        "        # generate the next binary numbers by appending \"0\" and \"1\" to the current number\n",
        "        q.put(binary_num + \"0\")\n",
        "        q.put(binary_num + \"1\")\n",
        "genBin(7)"
      ]
    },
    {
      "cell_type": "code",
      "source": [
        "#Q.no.2\n",
        "from queue import Queue\n",
        "\n",
        "class Stack:\n",
        "    def __init__(self):\n",
        "        self.q = Queue()\n",
        "\n",
        "    def push(self, val):\n",
        "        # get the current size of the queue\n",
        "        size = self.q.qsize()\n",
        "\n",
        "        # enqueue the new value\n",
        "        self.q.put(val)\n",
        "\n",
        "        # dequeue and enqueue all previous values\n",
        "        for _ in range(size):\n",
        "            self.q.put(self.q.get())\n",
        "\n",
        "    def pop(self):\n",
        "        # if the queue is empty, raise an error\n",
        "        if self.q.empty():\n",
        "            raise IndexError(\"pop from empty stack\")\n",
        "\n",
        "        # return the last value that was enqueued\n",
        "        return self.q.get()\n",
        "stack = Stack()\n",
        "stack.push(1)\n",
        "stack.push(2)\n",
        "stack.push(3)\n",
        "print(stack.pop())  # output: 3\n",
        "print(stack.pop())  # output: 2\n",
        "print(stack.pop())  # output: 1\n"
      ],
      "metadata": {
        "id": "KgI9rTsHfOQq"
      },
      "execution_count": null,
      "outputs": []
    },
    {
      "cell_type": "code",
      "source": [
        "#Q.no.3\n",
        "# create an empty list to represent the priority queue\n",
        "queue = []\n",
        "\n",
        "# push function to insert an element into the priority queue\n",
        "def push(element):\n",
        "    # append the new element to the end of the queue\n",
        "    queue.append(element)\n",
        "    # sort the queue based on priority (ASCII code value)\n",
        "    queue.sort()\n",
        "    \n",
        "# pop function to remove the element with highest priority from the queue\n",
        "def pop():\n",
        "    # check if the queue is not empty\n",
        "    if len(queue) > 0:\n",
        "        # remove and return the first element in the queue (highest priority)\n",
        "        return queue.pop(0)\n",
        "    else:\n",
        "        # if the queue is empty, return None\n",
        "        return None\n",
        "\n",
        "# create an empty list to represent the priority queue\n",
        "queue = []\n",
        "\n",
        "# push elements into the queue with their ASCII code value as priority\n",
        "push('O')   # priority = 79\n",
        "push('D')   # priority = 68\n",
        "push('A')   # priority = 65\n",
        "\n",
        "# pop elements from the queue based on their priority\n",
        "print(pop())   # expected output: 'A'\n",
        "print(pop())   # expected output: 'D'\n",
        "print(pop())   # expected output: 'O'\n",
        "print(pop())   # expected output: None (queue is empty)\n"
      ],
      "metadata": {
        "colab": {
          "base_uri": "https://localhost:8080/"
        },
        "id": "-DVJxfdXgOrB",
        "outputId": "f9a17a20-3a9a-4f29-abf5-c367e154eecc"
      },
      "execution_count": 1,
      "outputs": [
        {
          "output_type": "stream",
          "name": "stdout",
          "text": [
            "A\n",
            "D\n",
            "O\n",
            "None\n"
          ]
        }
      ]
    },
    {
      "cell_type": "code",
      "source": [
        "#Q.no.4\n",
        "def getNumElem(size, front, rear):\n",
        "    if front == -1 and rear == -1:\n",
        "        # the queue is empty\n",
        "        return 0\n",
        "    elif rear >= front:\n",
        "        # the queue is not wrapped around\n",
        "        return rear - front + 1\n",
        "    else:\n",
        "        # the queue is wrapped around\n",
        "        return size - front + rear + 1\n",
        "# create a circular queue with max size 5\n",
        "queue = [None] * 5\n",
        "front, rear = -1, -1\n",
        "\n",
        "# enqueue three elements\n",
        "rear = (rear + 1) % len(queue)\n",
        "queue[rear] = 1\n",
        "rear = (rear + 1) % len(queue)\n",
        "queue[rear] = 2\n",
        "rear = (rear + 1) % len(queue)\n",
        "queue[rear] = 3\n",
        "\n",
        "# dequeue one element\n",
        "front = (front + 1) % len(queue)\n",
        "\n",
        "# get the number of elements in the queue\n",
        "num_elems = getNumElem(len(queue), front, rear)\n",
        "print(num_elems)  # output: 2\n"
      ],
      "metadata": {
        "id": "oc1hJJUPfx71"
      },
      "execution_count": null,
      "outputs": []
    }
  ]
}